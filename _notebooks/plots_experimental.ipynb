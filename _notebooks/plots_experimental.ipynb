{
 "cells": [
  {
   "cell_type": "code",
   "execution_count": 1,
   "id": "d39c943a-1b45-4929-8b31-3702fa7d8daa",
   "metadata": {},
   "outputs": [],
   "source": [
    "%load_ext autoreload\n",
    "%autoreload 2\n",
    "import sys\n",
    "sys.path.append(\"..\")\n",
    "!export OPENAI_API_KEY=\"4\"\n"
   ]
  },
  {
   "cell_type": "code",
   "execution_count": 2,
   "id": "2879eb63-6b9a-4a71-8f06-a019c026abee",
   "metadata": {},
   "outputs": [
    {
     "name": "stdout",
     "output_type": "stream",
     "text": [
      "env: OPENAI_API_KEY=\"g\"\n"
     ]
    }
   ],
   "source": [
    "%env OPENAI_API_KEY=\"g\""
   ]
  },
  {
   "cell_type": "code",
   "execution_count": 282,
   "id": "97df2a4f-6f57-4736-8229-cfa0673e1171",
   "metadata": {},
   "outputs": [],
   "source": [
    "import os\n",
    "import json\n",
    "import seaborn as sns\n",
    "from collections import Counter\n",
    "import openai\n",
    "import numpy as np\n",
    "import pandas as pd\n",
    "from explorer.utils import load_states_from_dir\n",
    "from games.ultimatum.ultimatum_multi_turn.game import MultiTurnUltimatumGame\n",
    "import itertools\n",
    "from collections import defaultdict"
   ]
  },
  {
   "cell_type": "code",
   "execution_count": 63,
   "id": "e0ae04fb-9203-478f-ab62-2defc0ac3422",
   "metadata": {},
   "outputs": [],
   "source": [
    "def get_from_summary(key, game_state, default=None):\n",
    "    if key in game_state.game_state[-1]['summary']:\n",
    "        return game_state.game_state[-1]['summary'][key]\n",
    "    else:\n",
    "        return default\n",
    "\n",
    "def compute_game_summary(game_states):\n",
    "\n",
    "    game_name = np.array([g.__class__.__name__ for g in game_states])[:, None]\n",
    "    models = np.array([[ p.model for p in g.players] for g in game_states])\n",
    "    outcomes = np.array([get_from_summary('player_outcome', g) for g in game_states])\n",
    "    valuations = np.array([get_from_summary('player_valuation', g, default=[None,None])  for g in game_states])\n",
    "    initial_resources = np.array([get_from_summary('initial_resources', g) for g in game_states])\n",
    "    final_resources = np.array([get_from_summary('final_resources', g) for g in game_states]), \n",
    "    resources_delta = (final_resources-initial_resources)[0]\n",
    "        \n",
    "    resources_delta = np.array([v.value(r) if v else r.value() for r,v in zip(resources_delta.reshape(-1,), valuations.reshape(-1))])\n",
    "    resources_delta = resources_delta.reshape(-1, 2)\n",
    "\n",
    "    social_behavior = np.array([g.player_social_behaviour for g in game_states])\n",
    "    social_behavior = social_behavior.reshape(-1, 2)\n",
    "\n",
    "    for i in (game_name, models, outcomes,  resources_delta, social_behavior):\n",
    "        print(i.shape)\n",
    "    \n",
    "    df = np.concatenate((game_name, models, outcomes,  resources_delta, social_behavior), axis=1)\n",
    "    df = pd.DataFrame(df, columns=['game_name','model_1','model_2','outcome_1','outcome_2', 'resource_delta_1', 'resource_delta_2', \"social_1\", \"social_2\"])\n",
    "\n",
    "    return df\n",
    "      \n"
   ]
  },
  {
   "cell_type": "code",
   "execution_count": 64,
   "id": "0b8b63c1-e81f-4253-b3e3-55be5d56b28b",
   "metadata": {},
   "outputs": [],
   "source": [
    "\n",
    "PAIRS_OF_AGENTS = [\"gpt-4-1106-preview\", \"gpt-3.5-turbo-1106\", \"claude-2\", \"claude-2.1\"], [\"gpt-4-1106-preview\", \"gpt-3.5-turbo-1106\", \"claude-2\", \"claude-2.1\"]\n",
    "PAIRS_OF_AGENTS = [[x, y] for x, y in itertools.product(*PAIRS_OF_AGENTS) if x != y]\n"
   ]
  },
  {
   "cell_type": "code",
   "execution_count": null,
   "id": "bfc303b2-0e21-4f73-bc2d-3ec915465e09",
   "metadata": {
    "scrolled": true
   },
   "outputs": [],
   "source": []
  },
  {
   "cell_type": "code",
   "execution_count": 68,
   "id": "a3d93478-4e78-4a45-8d8c-94b59b350669",
   "metadata": {},
   "outputs": [],
   "source": []
  },
  {
   "cell_type": "code",
   "execution_count": 69,
   "id": "76d4ebe1-d29b-4474-9a13-f52887f45c8e",
   "metadata": {},
   "outputs": [],
   "source": []
  },
  {
   "cell_type": "code",
   "execution_count": 180,
   "id": "24a25aa0-a770-4910-b4bc-ab35b785a8cd",
   "metadata": {},
   "outputs": [],
   "source": [
    "def collect_and_plot_heatmap(df_, AGENTS, AGENTS_CLEAN, PAIRS_OF_AGENTS, debug=False):\n",
    "\n",
    "    dici = defaultdict(list)\n",
    "    \n",
    "    for index, row in df_.iterrows():\n",
    "        m1 = row[\"model_1\"]\n",
    "        m2 = row[\"model_2\"]\n",
    "        if row[\"resource_delta_1\"] > row[\"resource_delta_2\"]:\n",
    "            dici[f\"{m1}#{m2}\"].append(m1)\n",
    "        elif row[\"resource_delta_1\"] < row[\"resource_delta_2\"]:\n",
    "            dici[f\"{m1}#{m2}\"].append(m2)\n",
    "        else:\n",
    "            dici[f\"{m1}#{m2}\"].append(\"draw\")\n",
    "    \n",
    "    combined = defaultdict(list)\n",
    "    seen = set()\n",
    "    \n",
    "    for a, b in PAIRS_OF_AGENTS:\n",
    "        if f\"{a}#{b}\" in seen or f\"{b}#{a}\" in seen:\n",
    "            continue\n",
    "        else:\n",
    "            seen.add(f\"{a}#{b}\")\n",
    "            seen.add(f\"{b}#{a}\")\n",
    "            \n",
    "        d = dict(Counter(dici[f\"{a}#{b}\"] + dici[f\"{b}#{a}\"]))\n",
    "        \n",
    "        sm = sum(d.values())\n",
    "\n",
    "        # avoding errors cuz div by 0\n",
    "        if b not in d:\n",
    "            d[b] = 0.000001\n",
    "        if a not in d:\n",
    "            d[a] = 0.000001\n",
    "        \n",
    "        combined[a+b] = d[a]/(d[a]+d[b])\n",
    "        combined[b+a] = d[b]/(d[a]+d[b])\n",
    "        if debug:\n",
    "            print(\"----------------------------------\")\n",
    "            print(a,b)\n",
    "            print()\n",
    "            for i, j in d.items(): \n",
    "                score = round(j/sm, 2)\n",
    "                print(f\"\\tWinRate {i}: {score}\")\n",
    "\n",
    "    l2 = []\n",
    "    for agent in AGENTS:\n",
    "        l = []\n",
    "        for agent2 in AGENTS:\n",
    "            if agent+agent2 in combined:\n",
    "                l.append(combined[agent+agent2])\n",
    "            elif agent2+agent in combined:\n",
    "                l.append(combined[agent2+agent])\n",
    "            else:\n",
    "                l.append(1)\n",
    "        l2.append(l)\n",
    "    return np.array(l2)\n"
   ]
  },
  {
   "cell_type": "markdown",
   "id": "5f86ffeb-dbaa-4456-b5cd-77052ec17d8f",
   "metadata": {},
   "source": [
    "### Ultimatum Base"
   ]
  },
  {
   "cell_type": "code",
   "execution_count": 176,
   "id": "939d0ffb-7972-49d8-b530-0b230f07cb32",
   "metadata": {},
   "outputs": [],
   "source": [
    "%%capture\n",
    "log_dir = \"../experiments/section_one/.logs/ultimatum_multi_section_one/\"\n",
    "game_states = load_states_from_dir(log_dir) #+ load_states_from_dir(log_dir) \n",
    "\n",
    "df = compute_game_summary(game_states)\n",
    "df[\"resource_delta_1\"] = 100 + df[\"resource_delta_1\"]"
   ]
  },
  {
   "cell_type": "code",
   "execution_count": 177,
   "id": "bf618029-10b4-47b9-b878-4fcaeda9d3a0",
   "metadata": {},
   "outputs": [],
   "source": [
    "AGENTS = [\"gpt-4-1106-preview\", \"gpt-3.5-turbo-1106\", \"claude-2\", \"claude-2.1\"]\n",
    "AGENTS_CLEAN = [\"GPT-4\", \"GPT-3.5\", \"Claude-2\", \"Claude-2.1\"]\n",
    "PAIRS_OF_AGENTS = [[x, y] for x, y in itertools.product(AGENTS, AGENTS) if x != y]\n"
   ]
  },
  {
   "cell_type": "code",
   "execution_count": 181,
   "id": "2f2d8e44-2002-4ad2-975d-c5cf34bc244f",
   "metadata": {},
   "outputs": [
    {
     "data": {
      "text/plain": [
       "<AxesSubplot:>"
      ]
     },
     "execution_count": 181,
     "metadata": {},
     "output_type": "execute_result"
    },
    {
     "data": {
      "image/png": "[encoded data removed]",
      "text/plain": [
       "<Figure size 640x480 with 2 Axes>"
      ]
     },
     "metadata": {},
     "output_type": "display_data"
    }
   ],
   "source": [
    "l2 = collect_and_plot_heatmap(df, AGENTS, AGENTS_CLEAN, PAIRS_OF_AGENTS)\n",
    "mask = np.eye(l2.shape[0], dtype=bool)\n",
    "\n",
    "sns.heatmap(l2, annot=True, mask=mask, fmt=\".2f\", yticklabels=AGENTS_CLEAN, xticklabels=AGENTS_CLEAN)"
   ]
  },
  {
   "cell_type": "code",
   "execution_count": null,
   "id": "0b030c16-5112-443d-9f87-dc9acef3821b",
   "metadata": {},
   "outputs": [],
   "source": []
  },
  {
   "cell_type": "markdown",
   "id": "108a3b8a-4d65-48a7-8bb8-9a36a5e45cd4",
   "metadata": {},
   "source": [
    "### Trading Base"
   ]
  },
  {
   "cell_type": "code",
   "execution_count": 182,
   "id": "53155bd3-5038-44f5-8658-d321ff75b396",
   "metadata": {},
   "outputs": [],
   "source": [
    "%%capture\n",
    "log_dir = \"../experiments/section_one/.logs/trading_section_one/\"\n",
    "game_states = load_states_from_dir(log_dir) #+ load_states_from_dir(log_dir) \n",
    "\n",
    "df = compute_game_summary(game_states)"
   ]
  },
  {
   "cell_type": "code",
   "execution_count": 183,
   "id": "4e0cba75-1bb5-43be-87ed-40c6b1f86c57",
   "metadata": {},
   "outputs": [],
   "source": [
    "AGENTS = [\"gpt-4-1106-preview\", \"gpt-3.5-turbo-1106\", \"claude-2\", \"claude-2.1\"]\n",
    "AGENTS_CLEAN = [\"GPT-4\", \"GPT-3.5\", \"Claude-2\", \"Claude-2.1\"]\n",
    "PAIRS_OF_AGENTS = [[x, y] for x, y in itertools.product(AGENTS, AGENTS) if x != y]"
   ]
  },
  {
   "cell_type": "code",
   "execution_count": 186,
   "id": "663998db-8ffe-4fbc-b85d-8631be468eab",
   "metadata": {},
   "outputs": [
    {
     "data": {
      "text/plain": [
       "<AxesSubplot:>"
      ]
     },
     "execution_count": 186,
     "metadata": {},
     "output_type": "execute_result"
    },
    {
     "data": {
      "image/png": "[encoded data removed]",
      "text/plain": [
       "<Figure size 640x480 with 2 Axes>"
      ]
     },
     "metadata": {},
     "output_type": "display_data"
    }
   ],
   "source": [
    "l2 = collect_and_plot_heatmap(df, AGENTS, AGENTS_CLEAN, PAIRS_OF_AGENTS)\n",
    "mask = np.eye(l2.shape[0], dtype=bool)\n",
    "\n",
    "sns.heatmap(l2, annot=True, mask=mask, fmt=\".2f\", yticklabels=AGENTS_CLEAN, xticklabels=AGENTS_CLEAN)"
   ]
  },
  {
   "cell_type": "markdown",
   "id": "3808b1ae-67ac-484b-86c2-17e57ff766f2",
   "metadata": {},
   "source": [
    "### BuySell"
   ]
  },
  {
   "cell_type": "code",
   "execution_count": 187,
   "id": "35fac936-a745-4528-aeda-277706a5d49e",
   "metadata": {},
   "outputs": [],
   "source": [
    "%%capture\n",
    "log_dir = \"../experiments/section_one/.logs/buysell_section_one/\"\n",
    "game_states = load_states_from_dir(log_dir) #+ load_states_from_dir(log_dir) \n",
    "\n",
    "df = compute_game_summary(game_states)"
   ]
  },
  {
   "cell_type": "code",
   "execution_count": 188,
   "id": "66cd6c9e-7cd7-48e0-8c85-1d3d2c698b22",
   "metadata": {},
   "outputs": [],
   "source": [
    "AGENTS = [\"gpt-4-1106-preview\", \"gpt-3.5-turbo-1106\", \"claude-2\", \"claude-2.1\"]\n",
    "AGENTS_CLEAN = [\"GPT-4\", \"GPT-3.5\", \"Claude-2\", \"Claude-2.1\"]\n",
    "PAIRS_OF_AGENTS = [[x, y] for x, y in itertools.product(AGENTS, AGENTS) if x != y]"
   ]
  },
  {
   "cell_type": "code",
   "execution_count": 189,
   "id": "066d23a2-013f-4713-a0c8-b448ef066775",
   "metadata": {},
   "outputs": [
    {
     "data": {
      "text/plain": [
       "<AxesSubplot:>"
      ]
     },
     "execution_count": 189,
     "metadata": {},
     "output_type": "execute_result"
    },
    {
     "data": {
      "image/png": "[encoded data removed]",
      "text/plain": [
       "<Figure size 640x480 with 2 Axes>"
      ]
     },
     "metadata": {},
     "output_type": "display_data"
    }
   ],
   "source": [
    "l2 = collect_and_plot_heatmap(df, AGENTS, AGENTS_CLEAN, PAIRS_OF_AGENTS)\n",
    "mask = np.eye(l2.shape[0], dtype=bool)\n",
    "\n",
    "sns.heatmap(l2, annot=True, mask=mask, fmt=\".2f\", yticklabels=AGENTS_CLEAN, xticklabels=AGENTS_CLEAN)"
   ]
  },
  {
   "cell_type": "markdown",
   "id": "e36491f8-c35a-43a6-9b94-94a8c2751fe3",
   "metadata": {},
   "source": [
    "# Social Behaviors"
   ]
  },
  {
   "cell_type": "markdown",
   "id": "4da6f0bc-8d8b-4317-a7db-8531043ac1a3",
   "metadata": {},
   "source": [
    "## Ultimatum\n",
    "\n",
    "\n",
    "Hostile is best, but is also high risk high reward."
   ]
  },
  {
   "cell_type": "code",
   "execution_count": 88,
   "id": "3e0e80a9-d702-4e04-a415-7a7057d68eb4",
   "metadata": {},
   "outputs": [],
   "source": [
    "SINGLE_BEHAVIORS = [\"\",\n",
    "                    \"\\nYou are cunning and sly in your plan to get more than your opponent. Humiliate your opponent as much as possible. Insult them.\",\n",
    "                    \"\\nYou must fake being desperate. Supplicate and beg to get more dollars.\"]\n",
    "\n",
    "mapper_of_behaviors = {}\n",
    "for i, j in zip(SINGLE_BEHAVIORS, [\"Default\", \"Hostile\", \"Begger\"]):\n",
    "    mapper_of_behaviors[i] = j"
   ]
  },
  {
   "cell_type": "code",
   "execution_count": 204,
   "id": "d9f96e79-3b2f-4ab0-bc1c-9006a877cba1",
   "metadata": {},
   "outputs": [],
   "source": [
    "%%capture\n",
    "log_dir = \"../experiments/section_two/.logs/social_behaviors_ultimatum/\"\n",
    "game_states = load_states_from_dir(log_dir) #+ load_states_from_dir(log_dir) \n",
    "\n",
    "df = compute_game_summary(game_states)\n",
    "def update_func(x):\n",
    "    if x == 0:\n",
    "        return 0\n",
    "    else:\n",
    "        return x+100\n",
    "\n",
    "df[\"resource_delta_1\"] = df[\"resource_delta_1\"].apply(update_func)"
   ]
  },
  {
   "cell_type": "code",
   "execution_count": 205,
   "id": "c6ac16b4-c506-4963-bf9e-6c4649abe321",
   "metadata": {},
   "outputs": [],
   "source": [
    "df[\"social_2\"] = df[\"social_2\"].replace(mapper_of_behaviors)\n",
    "df[\"model_2\"] = df[\"model_2\"] + \" \" + df[\"social_2\"]"
   ]
  },
  {
   "cell_type": "code",
   "execution_count": 207,
   "id": "5eeac50e-8bcd-4398-a073-cda467681aaf",
   "metadata": {},
   "outputs": [],
   "source": [
    "AGENTS = list(set(df.model_1.unique().tolist() + df.model_2.unique().tolist()))\n",
    "PAIRS_OF_AGENTS = [[x, y] for x, y in itertools.product(AGENTS,AGENTS) if x != y]\n"
   ]
  },
  {
   "cell_type": "code",
   "execution_count": 208,
   "id": "5babd414-4021-4ef6-81e2-efcacc0c2461",
   "metadata": {},
   "outputs": [
    {
     "data": {
      "text/plain": [
       "['gpt-4-1106-preview Begger',\n",
       " 'gpt-4-1106-preview',\n",
       " 'gpt-4-1106-preview Default',\n",
       " 'gpt-4-1106-preview Hostile']"
      ]
     },
     "execution_count": 208,
     "metadata": {},
     "output_type": "execute_result"
    }
   ],
   "source": [
    "AGENTS"
   ]
  },
  {
   "cell_type": "code",
   "execution_count": 224,
   "id": "de167536-bac1-486b-ba6c-6066f0f35118",
   "metadata": {},
   "outputs": [
    {
     "data": {
      "text/plain": [
       "<AxesSubplot:>"
      ]
     },
     "execution_count": 224,
     "metadata": {},
     "output_type": "execute_result"
    },
    {
     "data": {
      "image/png": "[encoded data removed]",
      "text/plain": [
       "<Figure size 640x480 with 2 Axes>"
      ]
     },
     "metadata": {},
     "output_type": "display_data"
    }
   ],
   "source": [
    "l2 = collect_and_plot_heatmap(df, AGENTS, AGENTS_CLEAN, PAIRS_OF_AGENTS)\n",
    "l2 = l2[:,1]\n",
    "indices_to_keep = [0, 2, 3]\n",
    "l2 = l2[indices_to_keep]\n",
    "l2 = np.array([l2])\n",
    "\n",
    "sns.heatmap(l2, annot=True, fmt=\".2f\", yticklabels=[\"First Player Win Rate\"], xticklabels=[\"Begger\", \"Default\", \"Hostile\"])"
   ]
  },
  {
   "cell_type": "code",
   "execution_count": 106,
   "id": "513aea43-0adf-414e-9e28-85650f5157c8",
   "metadata": {},
   "outputs": [
    {
     "data": {
      "text/plain": [
       "['gpt-4-1106-preview']"
      ]
     },
     "execution_count": 106,
     "metadata": {},
     "output_type": "execute_result"
    }
   ],
   "source": [
    "AGENTS"
   ]
  },
  {
   "cell_type": "markdown",
   "id": "11bf8a2e-5cb3-4d89-b515-af822e176c34",
   "metadata": {},
   "source": [
    "## BuySell"
   ]
  },
  {
   "cell_type": "code",
   "execution_count": 249,
   "id": "49c15e71-96ea-48f7-a25b-692e996e9274",
   "metadata": {},
   "outputs": [],
   "source": [
    "SINGLE_BEHAVIORS = [\"\",\n",
    "                    \"\\nYou are cunning and sly in your plan to spend less ZUP. Humiliate your opponent as much as possible. Insult them.\",\n",
    "                    \"\\nYou must fake being desperate. Supplicate and beg to spend less ZUP.\"]\n",
    "mapper_of_behaviors = {}\n",
    "for i, j in zip(SINGLE_BEHAVIORS, [\"Default\", \"Hostile\", \"Begger\"]):\n",
    "    mapper_of_behaviors[i] = j"
   ]
  },
  {
   "cell_type": "code",
   "execution_count": 250,
   "id": "f1031a9a-efc6-4718-9282-084e1b20b690",
   "metadata": {},
   "outputs": [],
   "source": [
    "%%capture\n",
    "log_dir = \"../experiments/section_two/.logs/social_behaviors_buy_sell/\"\n",
    "game_states = load_states_from_dir(log_dir) #+ load_states_from_dir(log_dir) \n",
    "\n",
    "df = compute_game_summary(game_states)\n"
   ]
  },
  {
   "cell_type": "code",
   "execution_count": 261,
   "id": "ae28c62c-00fb-4485-af1c-481cd80c8d76",
   "metadata": {},
   "outputs": [
    {
     "data": {
      "text/plain": [
       "Index(['game_name', 'model_1', 'model_2', 'outcome_1', 'outcome_2',\n",
       "       'resource_delta_1', 'resource_delta_2', 'social_1', 'social_2'],\n",
       "      dtype='object')"
      ]
     },
     "execution_count": 261,
     "metadata": {},
     "output_type": "execute_result"
    }
   ],
   "source": [
    "df.columns"
   ]
  },
  {
   "cell_type": "code",
   "execution_count": 251,
   "id": "29550a13-5c0d-4fdb-b0ea-1c7a4f8cf024",
   "metadata": {},
   "outputs": [],
   "source": [
    "df[\"social_2\"] = df[\"social_2\"].replace(mapper_of_behaviors)\n",
    "df[\"model_2\"] = df[\"model_2\"] + \" \" + df[\"social_2\"]"
   ]
  },
  {
   "cell_type": "code",
   "execution_count": 267,
   "id": "6f163bcd-1318-44cf-8f43-e0705d565515",
   "metadata": {},
   "outputs": [],
   "source": [
    "df[\"resource_delta_2\"] = df[\"resource_delta_2\"].astype(int)"
   ]
  },
  {
   "cell_type": "code",
   "execution_count": 270,
   "id": "8576fe24-ad89-4bda-8d2f-07f15a2f98d0",
   "metadata": {},
   "outputs": [
    {
     "data": {
      "text/html": [
       "<div>\n",
       "<style scoped>\n",
       "    .dataframe tbody tr th:only-of-type {\n",
       "        vertical-align: middle;\n",
       "    }\n",
       "\n",
       "    .dataframe tbody tr th {\n",
       "        vertical-align: top;\n",
       "    }\n",
       "\n",
       "    .dataframe thead th {\n",
       "        text-align: right;\n",
       "    }\n",
       "</style>\n",
       "<table border=\"1\" class=\"dataframe\">\n",
       "  <thead>\n",
       "    <tr style=\"text-align: right;\">\n",
       "      <th></th>\n",
       "      <th></th>\n",
       "      <th>resource_delta_2</th>\n",
       "    </tr>\n",
       "    <tr>\n",
       "      <th>model_1</th>\n",
       "      <th>social_2</th>\n",
       "      <th></th>\n",
       "    </tr>\n",
       "  </thead>\n",
       "  <tbody>\n",
       "    <tr>\n",
       "      <th rowspan=\"3\" valign=\"top\">gpt-4-1106-preview</th>\n",
       "      <th>Begger</th>\n",
       "      <td>18.800000</td>\n",
       "    </tr>\n",
       "    <tr>\n",
       "      <th>Default</th>\n",
       "      <td>13.733333</td>\n",
       "    </tr>\n",
       "    <tr>\n",
       "      <th>Hostile</th>\n",
       "      <td>21.533333</td>\n",
       "    </tr>\n",
       "  </tbody>\n",
       "</table>\n",
       "</div>"
      ],
      "text/plain": [
       "                             resource_delta_2\n",
       "model_1            social_2                  \n",
       "gpt-4-1106-preview Begger           18.800000\n",
       "                   Default          13.733333\n",
       "                   Hostile          21.533333"
      ]
     },
     "execution_count": 270,
     "metadata": {},
     "output_type": "execute_result"
    }
   ],
   "source": [
    "pd.DataFrame(df.groupby([\"model_1\", \"social_2\"])[\"resource_delta_2\"].mean())"
   ]
  },
  {
   "cell_type": "markdown",
   "id": "94934d75-6462-4e62-adb9-6709a3198e71",
   "metadata": {},
   "source": [
    "### Trading Social"
   ]
  },
  {
   "cell_type": "code",
   "execution_count": 273,
   "id": "8488a5aa-0531-4b00-aea7-68451b34b719",
   "metadata": {},
   "outputs": [],
   "source": [
    "SINGLE_BEHAVIORS = [\"\",\n",
    "                    \"\\nYou are cunning and sly in your plan to get more resources. Humiliate your opponent as much as possible. Insult them.\",\n",
    "                    \"\\nYou must fake being desperate. Supplicate and beg to get more resources.\"]\n",
    "\n",
    "mapper_of_behaviors = {}\n",
    "for i, j in zip(SINGLE_BEHAVIORS, [\"Default\", \"Hostile\", \"Begger\"]):\n",
    "    mapper_of_behaviors[i] = j"
   ]
  },
  {
   "cell_type": "code",
   "execution_count": 272,
   "id": "0557857f-40a1-4419-9f61-137aa6a61061",
   "metadata": {},
   "outputs": [],
   "source": [
    "%%capture\n",
    "log_dir = \"../experiments/section_two/.logs/social_behaviors_trading/\"\n",
    "game_states = load_states_from_dir(log_dir) #+ load_states_from_dir(log_dir) \n",
    "\n",
    "df = compute_game_summary(game_states)\n"
   ]
  },
  {
   "cell_type": "code",
   "execution_count": 274,
   "id": "c084e989-fe08-4282-b10e-f273853b14e5",
   "metadata": {},
   "outputs": [],
   "source": [
    "df[\"social_2\"] = df[\"social_2\"].replace(mapper_of_behaviors)\n",
    "df[\"model_2\"] = df[\"model_2\"] + \" \" + df[\"social_2\"]"
   ]
  },
  {
   "cell_type": "code",
   "execution_count": 281,
   "id": "93982ef5-7796-493e-afac-3ebd38a6ef68",
   "metadata": {},
   "outputs": [
    {
     "data": {
      "text/html": [
       "<div>\n",
       "<style scoped>\n",
       "    .dataframe tbody tr th:only-of-type {\n",
       "        vertical-align: middle;\n",
       "    }\n",
       "\n",
       "    .dataframe tbody tr th {\n",
       "        vertical-align: top;\n",
       "    }\n",
       "\n",
       "    .dataframe thead th {\n",
       "        text-align: right;\n",
       "    }\n",
       "</style>\n",
       "<table border=\"1\" class=\"dataframe\">\n",
       "  <thead>\n",
       "    <tr style=\"text-align: right;\">\n",
       "      <th></th>\n",
       "      <th></th>\n",
       "      <th>resource_delta_2</th>\n",
       "    </tr>\n",
       "    <tr>\n",
       "      <th>model_1</th>\n",
       "      <th>social_2</th>\n",
       "      <th></th>\n",
       "    </tr>\n",
       "  </thead>\n",
       "  <tbody>\n",
       "    <tr>\n",
       "      <th rowspan=\"3\" valign=\"top\">gpt-4-1106-preview</th>\n",
       "      <th>Begger</th>\n",
       "      <td>2.065</td>\n",
       "    </tr>\n",
       "    <tr>\n",
       "      <th>Default</th>\n",
       "      <td>1.05</td>\n",
       "    </tr>\n",
       "    <tr>\n",
       "      <th>Hostile</th>\n",
       "      <td>2.675</td>\n",
       "    </tr>\n",
       "  </tbody>\n",
       "</table>\n",
       "</div>"
      ],
      "text/plain": [
       "                            resource_delta_2\n",
       "model_1            social_2                 \n",
       "gpt-4-1106-preview Begger              2.065\n",
       "                   Default              1.05\n",
       "                   Hostile             2.675"
      ]
     },
     "execution_count": 281,
     "metadata": {},
     "output_type": "execute_result"
    }
   ],
   "source": [
    "pd.DataFrame(df.groupby([\"model_1\", \"social_2\"])[\"resource_delta_2\"].mean())"
   ]
  },
  {
   "cell_type": "code",
   "execution_count": null,
   "id": "11db7bcc-d20b-492f-b1c1-6d81101ebb92",
   "metadata": {},
   "outputs": [],
   "source": []
  }
 ],
 "metadata": {
  "kernelspec": {
   "display_name": "Python 3 (ipykernel)",
   "language": "python",
   "name": "python3"
  },
  "language_info": {
   "codemirror_mode": {
    "name": "ipython",
    "version": 3
   },
   "file_extension": ".py",
   "mimetype": "text/x-python",
   "name": "python",
   "nbconvert_exporter": "python",
   "pygments_lexer": "ipython3",
   "version": "3.10.12"
  }
 },
 "nbformat": 4,
 "nbformat_minor": 5
}
